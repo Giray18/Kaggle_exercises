{
 "cells": [
  {
   "cell_type": "code",
   "execution_count": 10,
   "metadata": {},
   "outputs": [
    {
     "name": "stdout",
     "output_type": "stream",
     "text": [
      "Fulham\n",
      "13353\n",
      "['Full-time Match ends, Leicester City 0, Fulham 1.', 'Full-time Match ends, Fulham 2, Southampton 1.', 'Full-time Match ends, Crystal Palace 0, Fulham 3.', 'Full-time Match ends, Fulham 1, Manchester United 2.', 'Full-time Match ends, Manchester City 2, Fulham 1.', 'Full-time Match ends, Fulham 0, Everton 0.', 'Full-time Match ends, Leeds United 2, Fulham 3.', 'Full-time Match ends, Fulham 3, Aston Villa 0.', 'Full-time Match ends, Fulham 2, Bournemouth 2.', 'Full-time Match ends, West Ham United 3, Fulham 1.', 'Full-time Match ends, Fulham 1, Newcastle United 4.', 'Full-time Match ends, Nottingham Forest 2, Fulham 3.', 'Full-time Match ends, Tottenham Hotspur 2, Fulham 1.', 'Full-time Match ends, Fulham 2, Brighton and Hove Albion 1.', 'Full-time Match ends, Arsenal 2, Fulham 1.', 'Full-time Match ends, Fulham 3, Brentford 2.', 'Full-time Match ends, Wolverhampton Wanderers 0, Fulham 0.', 'Full-time Match ends, Fulham 2, Liverpool 2.', 'Full-time Match ends, Newcastle United 1, Fulham 0.', 'Full-time Match ends, Fulham 2, Chelsea 1.', 'Full-time Match ends, Fulham 0, Tottenham Hotspur 1.', 'Full-time Match ends, Chelsea 0, Fulham 0.']\n",
      "32\n",
      "['Full-time Match ends, Leicester City 0, Fulham 1.', 'Full-time Match ends, Fulham 2, Southampton 1.', 'Full-time Match ends, Crystal Palace 0, Fulham 3.', 'Full-time Match ends, Fulham 1, Manchester United 2.', 'Full-time Match ends, Manchester City 2, Fulham 1.', 'Full-time Match ends, Fulham 0, Everton 0.', 'Full-time Match ends, Leeds United 2, Fulham 3.', 'Full-time Match ends, Fulham 3, Aston Villa 0.', 'Full-time Match ends, Fulham 2, Bournemouth 2.', 'Full-time Match ends, West Ham United 3, Fulham 1.', 'Full-time Match ends, Fulham 1, Newcastle United 4.', 'Full-time Match ends, Nottingham Forest 2, Fulham 3.', 'Full-time Match ends, Tottenham Hotspur 2, Fulham 1.', 'Full-time Match ends, Fulham 2, Brighton and Hove Albion 1.', 'Full-time Match ends, Arsenal 2, Fulham 1.', 'Full-time Match ends, Fulham 3, Brentford 2.', 'Full-time Match ends, Wolverhampton Wanderers 0, Fulham 0.', 'Full-time Match ends, Fulham 2, Liverpool 2.', 'Full-time Match ends, Newcastle United 1, Fulham 0.', 'Full-time Match ends, Fulham 2, Chelsea 1.', 'Full-time Match ends, Fulham 0, Tottenham Hotspur 1.', 'Full-time Match ends, Chelsea 0, Fulham 0.']\n",
      "0.24%\n"
     ]
    }
   ],
   "source": [
    "import json\n",
    "import math\n",
    "from collections import defaultdict\n",
    "import pprint\n",
    "import re\n",
    "import fnmatch\n",
    "\n",
    "#Team Selection\n",
    "\n",
    "Team = str(input(\"Select team to see stats: \")).title().replace('And','and')\n",
    "print(\"Selected Team is:\",Team)\n",
    "Team_2_Names = Team.split(\" \")\n",
    "\n",
    "\n",
    "#Opening JSON file\n",
    "\n",
    "try:\n",
    "    with open(\"epl_2022_2023_07_02_2023.json\", 'r+',encoding=\"UTF-8\") as my_file:\n",
    "        #data = json.loads(my_file.text)\n",
    "        data = my_file.read()\n",
    "        obj = json.loads(data)\n",
    "except UnicodeDecodeError:\n",
    "    print(\"Content could not be read could be UTF-8 non compliance\")\n",
    "else:\n",
    "    #Getting game ids\n",
    "    Game_ids = []\n",
    "    for key, value in obj.items(): \n",
    "        Game_ids.append(key)\n",
    "\n",
    "    def Total_Goals(Team):\n",
    "        Team_Scores = [obj[str(i)][\"event\"][0] for i in Game_ids if (Team) in obj[str(i)][\"event\"][0]] #Getting Team Match Results\n",
    "        Stripped = [item.split(\" \") for item in Team_Scores]\n",
    "        Goals = 0\n",
    "        for i in range(len(Stripped)): #Calculating Total Team Goals\n",
    "            if len(Team_2_Names) > 1 or Team in Team_Scores:\n",
    "                position = (Stripped[i].index((Team_2_Names[0])))\n",
    "                Goals += int((Stripped[i][position + len(Team_2_Names)]).replace(\",\",\"\").replace(\".\",\"\"))\n",
    "            else:\n",
    "                position = (Stripped[i].index((Team)))\n",
    "                Goals += int((Stripped[i][position + 1]).replace(\",\",\"\").replace(\".\",\"\"))\n",
    "        return Goals\n",
    "   \n",
    "    def Total_Shots(Team): #Calculating Total Team Shoots\n",
    "        Shoots = 0\n",
    "        for i in Game_ids:\n",
    "            if (Team) == obj[str(i)][\"team2_name\"]:\n",
    "                Shoots += int((obj[str(i)]['team2_stat']['shots']))\n",
    "            else:\n",
    "                Shoots += int((obj[str(i)]['team1_stat']['shots']))\n",
    "                continue\n",
    "        return Shoots\n",
    "        \n",
    "    def Shot_Goal_Percentage(Total_Goals,Total_Shots,Team): #Calculating Successful Shots\n",
    "        Total_Goals = int(Total_Goals(Team))\n",
    "        Total_Shoots = int(Total_Shots(Team))\n",
    "        percent = Total_Goals/Total_Shoots\n",
    "        percentage = \"{:.2%}\".format(percent)\n",
    "        return percentage\n",
    "\n",
    "print(\"Total Shots:\",Total_Shots(Team))\n",
    "print(\"Total Goals:\",Total_Goals(Team))\n",
    "print(\"Shot to Goal Percentage:\",Shot_Goal_Percentage(Total_Goals,Total_Shots,Team))\n"
   ]
  }
 ],
 "metadata": {
  "kernelspec": {
   "display_name": "Python 3",
   "language": "python",
   "name": "python3"
  },
  "language_info": {
   "codemirror_mode": {
    "name": "ipython",
    "version": 3
   },
   "file_extension": ".py",
   "mimetype": "text/x-python",
   "name": "python",
   "nbconvert_exporter": "python",
   "pygments_lexer": "ipython3",
   "version": "3.11.0"
  },
  "orig_nbformat": 4
 },
 "nbformat": 4,
 "nbformat_minor": 2
}
