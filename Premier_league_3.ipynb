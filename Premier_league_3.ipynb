{
 "cells": [
  {
   "cell_type": "code",
   "execution_count": 18,
   "metadata": {},
   "outputs": [
    {
     "name": "stdout",
     "output_type": "stream",
     "text": [
      "Selected Team is: Tottenham Hotspur\n",
      "Total Shots: 13276\n",
      "Total Goals: 41\n",
      "Shot to Goal Percentage: 0.31%\n"
     ]
    }
   ],
   "source": [
    "import json\n",
    "import math\n",
    "from collections import defaultdict\n",
    "import pprint\n",
    "import re\n",
    "import fnmatch\n",
    "import requests\n",
    "import base64\n",
    "\n",
    "\n",
    "#Team Selection\n",
    "\n",
    "Team = str(input(\"Select team to see stats: \")).title().replace('And','and')\n",
    "print(\"Selected Team is:\",Team)\n",
    "Team_2_Names = Team.split(\" \")\n",
    "\n",
    "\n",
    "#Opening JSON file\n",
    "\n",
    "try:\n",
    "    url = 'https://raw.githubusercontent.com/Giray18/Kaggle_exercises/main/epl_2022_2023_07_02_2023.json'\n",
    "    page = requests.get(url)\n",
    "    obj = json.loads(page.text)       \n",
    "except UnicodeDecodeError:\n",
    "    print(\"Content could not be read could be UTF-8 non compliance\")\n",
    "else:\n",
    "    #Getting game ids\n",
    "    Game_ids = []\n",
    "    for key, value in obj.items(): \n",
    "        Game_ids.append(key)\n",
    "\n",
    "    def Total_Goals(Team):\n",
    "        Team_Scores = [obj[str(i)][\"event\"][0] for i in Game_ids if (Team) in obj[str(i)][\"event\"][0]] #Getting Team Match Results\n",
    "        Stripped = [item.split(\" \") for item in Team_Scores]\n",
    "        Goals = 0\n",
    "        for i in range(len(Stripped)): #Calculating Total Team Goals\n",
    "            if len(Team_2_Names) > 1 or Team in Team_Scores:\n",
    "                position = (Stripped[i].index((Team_2_Names[0])))\n",
    "                Goals += int((Stripped[i][position + len(Team_2_Names)]).replace(\",\",\"\").replace(\".\",\"\"))\n",
    "            else:\n",
    "                position = (Stripped[i].index((Team)))\n",
    "                Goals += int((Stripped[i][position + 1]).replace(\",\",\"\").replace(\".\",\"\"))\n",
    "        return Goals\n",
    "   \n",
    "    def Total_Shots(Team): #Calculating Total Team Shoots\n",
    "        Shoots = 0\n",
    "        for i in Game_ids:\n",
    "            if (Team) == obj[str(i)][\"team2_name\"]:\n",
    "                Shoots += int((obj[str(i)]['team2_stat']['shots']))\n",
    "            else:\n",
    "                Shoots += int((obj[str(i)]['team1_stat']['shots']))\n",
    "                continue\n",
    "        return Shoots\n",
    "        \n",
    "    def Shot_Goal_Percentage(Total_Goals,Total_Shots,Team): #Calculating Successful Shots\n",
    "        Total_Goals = int(Total_Goals(Team))\n",
    "        Total_Shoots = int(Total_Shots(Team))\n",
    "        percent = Total_Goals/Total_Shoots\n",
    "        percentage = \"{:.2%}\".format(percent)\n",
    "        return percentage\n",
    "\n",
    "print(\"Total Shots:\",Total_Shots(Team))\n",
    "print(\"Total Goals:\",Total_Goals(Team))\n",
    "print(\"Shot to Goal Percentage:\",Shot_Goal_Percentage(Total_Goals,Total_Shots,Team))\n"
   ]
  }
 ],
 "metadata": {
  "kernelspec": {
   "display_name": "Python 3",
   "language": "python",
   "name": "python3"
  },
  "language_info": {
   "codemirror_mode": {
    "name": "ipython",
    "version": 3
   },
   "file_extension": ".py",
   "mimetype": "text/x-python",
   "name": "python",
   "nbconvert_exporter": "python",
   "pygments_lexer": "ipython3",
   "version": "3.11.0"
  },
  "orig_nbformat": 4
 },
 "nbformat": 4,
 "nbformat_minor": 2
}
